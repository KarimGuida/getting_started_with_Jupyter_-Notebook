{
 "cells": [
  {
   "cell_type": "markdown",
   "id": "a9ba7bb0-bd6c-44f2-9724-aa0291f8fefd",
   "metadata": {},
   "source": [
    "# Data Science Tools and Ecosystem"
   ]
  },
  {
   "cell_type": "markdown",
   "id": "4ddcae82-d242-41a1-a576-0b873d75d03c",
   "metadata": {},
   "source": [
    "In this notebook, Data Science Tools and Ecosystem are summarized."
   ]
  },
  {
   "cell_type": "markdown",
   "id": "943779bb-d8e1-412c-87a3-335cf66682d2",
   "metadata": {},
   "source": [
    "**Objectives:**\n",
    "* List popular languages for Data Science\n",
    "* List commonly used libraries used by Data scientists\n",
    "* List some Data science tools\n",
    "* Arithmetic expressions in Python"
   ]
  },
  {
   "cell_type": "markdown",
   "id": "57f93e5a-28db-41ba-806d-ca683615f40f",
   "metadata": {},
   "source": [
    "Some of the popular languages that Data Scientists use are:\n",
    "1. Python\n",
    "2. SQL\n",
    "3. R\n",
    "4. Julia\n",
    "5. Scala"
   ]
  },
  {
   "cell_type": "markdown",
   "id": "4a243202-2de3-4f46-9909-225392398e00",
   "metadata": {},
   "source": [
    "Some of the commonly used libraries used by Data Scientists include:\n",
    "1. Numpy\n",
    "2. Pandas\n",
    "3. SciPy \n",
    "4. Matplotlib\n",
    "5. SciKit-Learn"
   ]
  },
  {
   "cell_type": "markdown",
   "id": "913d3798-bde8-4bef-a279-30539323f709",
   "metadata": {},
   "source": [
    "| Data Science Tools | \n",
    "|:--------:|\n",
    "|  Visual Studio Code   | \n",
    "|  Rstudio   | \n",
    "|  Apache Spark  | "
   ]
  },
  {
   "cell_type": "markdown",
   "id": "f98e5875-fc90-432f-be9e-95e08ba3cfc0",
   "metadata": {},
   "source": [
    "### Below are a few examples of evaluating arithmetic expressions in Python\n",
    "\n"
   ]
  },
  {
   "cell_type": "code",
   "execution_count": 8,
   "id": "2347992d-9323-4f99-9ad9-e134b1837888",
   "metadata": {
    "tags": []
   },
   "outputs": [
    {
     "data": {
      "text/plain": [
       "17"
      ]
     },
     "execution_count": 8,
     "metadata": {},
     "output_type": "execute_result"
    }
   ],
   "source": [
    "(3*4)+5"
   ]
  },
  {
   "cell_type": "markdown",
   "id": "bb62a390-a025-48a9-b6d0-be674f367a1a",
   "metadata": {},
   "source": [
    "This will convert 200 minutes to hours by diving by 60"
   ]
  },
  {
   "cell_type": "code",
   "execution_count": 9,
   "id": "1b096e64-5181-47c6-98e2-355a16f1d44a",
   "metadata": {
    "tags": []
   },
   "outputs": [
    {
     "data": {
      "text/plain": [
       "3.3333333333333335"
      ]
     },
     "execution_count": 9,
     "metadata": {},
     "output_type": "execute_result"
    }
   ],
   "source": [
    "200/60"
   ]
  },
  {
   "cell_type": "markdown",
   "id": "9aea8241-68e9-4ddc-a0b2-d4b8f6ca3b31",
   "metadata": {},
   "source": [
    "## Author\n",
    "Karim Guida"
   ]
  },
  {
   "cell_type": "code",
   "execution_count": null,
   "id": "49cd53ae-edbd-4132-bd74-f546e37643b5",
   "metadata": {},
   "outputs": [],
   "source": []
  }
 ],
 "metadata": {
  "kernelspec": {
   "display_name": "Python",
   "language": "python",
   "name": "conda-env-python-py"
  },
  "language_info": {
   "codemirror_mode": {
    "name": "ipython",
    "version": 3
   },
   "file_extension": ".py",
   "mimetype": "text/x-python",
   "name": "python",
   "nbconvert_exporter": "python",
   "pygments_lexer": "ipython3",
   "version": "3.7.12"
  }
 },
 "nbformat": 4,
 "nbformat_minor": 5
}
